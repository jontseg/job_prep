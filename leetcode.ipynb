{
 "cells": [
  {
   "cell_type": "markdown",
   "metadata": {},
   "source": [
    "\t2331\t\n",
    "Evaluate Boolean Binary Tree"
   ]
  },
  {
   "cell_type": "code",
   "execution_count": null,
   "metadata": {},
   "outputs": [],
   "source": [
    "# Definition for a binary tree node.\n",
    "# class TreeNode:\n",
    "#     def __init__(self, val=0, left=None, right=None):\n",
    "#         self.val = val\n",
    "#         self.left = left\n",
    "#         self.right = right\n",
    "class Solution:\n",
    "    def evaluateTree(self, root: Optional[TreeNode]) -> bool:\n",
    "        if root.val == 0:\n",
    "            return 0\n",
    "        if root.val == 1:\n",
    "            return 1\n",
    "        if not root:\n",
    "            return\n",
    "        left = root.left\n",
    "        right = root.right\n",
    "        if root.val == 2:\n",
    "            return self.evaluateTree(left) or self.evaluateTree(right)\n",
    "        if root.val == 3:\n",
    "            return self.evaluateTree(left) and self.evaluateTree(right)"
   ]
  },
  {
   "cell_type": "markdown",
   "metadata": {},
   "source": [
    "\t700\t\n",
    "Search in a Binary Search Tree"
   ]
  },
  {
   "cell_type": "code",
   "execution_count": null,
   "metadata": {},
   "outputs": [],
   "source": [
    "# Definition for a binary tree node.\n",
    "# class TreeNode:\n",
    "#     def __init__(self, val=0, left=None, right=None):\n",
    "#         self.val = val\n",
    "#         self.left = left\n",
    "#         self.right = right\n",
    "class Solution:\n",
    "    def searchBST(self, root: Optional[TreeNode], val: int) -> Optional[TreeNode]:\n",
    "        if not root:\n",
    "            return\n",
    "        if root.val == val:\n",
    "            return root\n",
    "        if val < root.val:\n",
    "            return self.searchBST(root.left, val)\n",
    "        else:\n",
    "            return self.searchBST(root.right, val)"
   ]
  },
  {
   "cell_type": "markdown",
   "metadata": {},
   "source": [
    "\t\n",
    "Merge Two Binary Trees"
   ]
  },
  {
   "cell_type": "code",
   "execution_count": null,
   "metadata": {},
   "outputs": [],
   "source": [
    "# Definition for a binary tree node.\n",
    "# class TreeNode:\n",
    "#     def __init__(self, val=0, left=None, right=None):\n",
    "#         self.val = val\n",
    "#         self.left = left\n",
    "#         self.right = right\n",
    "class Solution:\n",
    "    def mergeTrees(self, root1: Optional[TreeNode], root2: Optional[TreeNode]) -> Optional[TreeNode]:\n",
    "        left = True\n",
    "        right = True\n",
    "        if not root1 and not root2:\n",
    "            return\n",
    "        elif root1 and root2:\n",
    "            root1.val += root2.val\n",
    "        if root1 and root2:\n",
    "            if root1.left == None and root2.left != None:\n",
    "                root1.left = root2.left\n",
    "                left = False\n",
    "            if root1.right == None and root2.right != None:\n",
    "                root1.right = root2.right\n",
    "                right = False\n",
    "            if left:\n",
    "                root1.left = self.mergeTrees(root1.left, root2.left)\n",
    "            if right:\n",
    "                root1.right = self.mergeTrees(root1.right, root2.right)\n",
    "        elif not root1 and root2:\n",
    "            return root2\n",
    "        return root1\n",
    "        \n",
    "\n"
   ]
  },
  {
   "cell_type": "markdown",
   "metadata": {},
   "source": [
    "\t1469\t\n",
    "Find All The Lonely Nodes"
   ]
  },
  {
   "cell_type": "code",
   "execution_count": null,
   "metadata": {},
   "outputs": [],
   "source": [
    "# Definition for a binary tree node.\n",
    "# class TreeNode:\n",
    "#     def __init__(self, val=0, left=None, right=None):\n",
    "#         self.val = val\n",
    "#         self.left = left\n",
    "#         self.right = right\n",
    "class Solution:\n",
    "    def getLonelyNodes(self, root: Optional[TreeNode]) -> List[int]:\n",
    "        res = []\n",
    "        def traverse(root):\n",
    "            if not root:\n",
    "                return\n",
    "            if root.right and not root.left:\n",
    "                res.append(root.right.val)\n",
    "            if root.left and not root.right:\n",
    "                res.append(root.left.val)\n",
    "            \n",
    "            left = traverse(root.left)\n",
    "            right = traverse(root.right)\n",
    "        traverse(root)\n",
    "        return res"
   ]
  },
  {
   "cell_type": "markdown",
   "metadata": {},
   "source": [
    "\t938\t\n",
    "Range Sum of BST"
   ]
  },
  {
   "cell_type": "code",
   "execution_count": null,
   "metadata": {},
   "outputs": [],
   "source": [
    "# Definition for a binary tree node.\n",
    "# class TreeNode:\n",
    "#     def __init__(self, val=0, left=None, right=None):\n",
    "#         self.val = val\n",
    "#         self.left = left\n",
    "#         self.right = right\n",
    "class Solution:\n",
    "    def rangeSumBST(self, root: Optional[TreeNode], low: int, high: int) -> int:\n",
    "        def traverse(root):\n",
    "            if not root:\n",
    "                return 0\n",
    "            res = 0\n",
    "            if root.val <= high and root.val >= low:\n",
    "                res += root.val\n",
    "            res += traverse(root.left)\n",
    "            res += traverse(root.right)\n",
    "            return res\n",
    "        return traverse(root)"
   ]
  }
 ],
 "metadata": {
  "language_info": {
   "name": "python"
  }
 },
 "nbformat": 4,
 "nbformat_minor": 2
}
